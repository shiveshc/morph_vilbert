{
 "cells": [
  {
   "cell_type": "code",
   "execution_count": 25,
   "id": "e4579265",
   "metadata": {},
   "outputs": [
    {
     "name": "stderr",
     "output_type": "stream",
     "text": [
      "Matplotlib is building the font cache; this may take a moment.\n"
     ]
    }
   ],
   "source": [
    "%reload_ext autoreload\n",
    "%autoreload 2\n",
    "import morph_mm.models.transformer as transformer\n",
    "from morph_mm.models.img_bert import ImgBERT\n",
    "import numpy as np\n",
    "import torch\n",
    "import torch.nn as nn\n",
    "import torchvision\n",
    "import matplotlib.pyplot as plt\n",
    "\n",
    "from configs import config_train_imgbert"
   ]
  },
  {
   "cell_type": "code",
   "execution_count": 3,
   "id": "a53c9f20",
   "metadata": {},
   "outputs": [
    {
     "data": {
      "text/plain": [
       "data:\n",
       "  img_size: 128\n",
       "  in_channels: 5\n",
       "  patch_size: 32\n",
       "model:\n",
       "  decoder_config:\n",
       "    mlp_inner_dim: 64\n",
       "    mlp_num_inner_layers: 1\n",
       "  encoder_cfg:\n",
       "    mlp_inner_dim: 64\n",
       "    model_dim: 32\n",
       "    num_heads: 4\n",
       "    num_layers: 3\n",
       "  mask_ratio: 0.25"
      ]
     },
     "execution_count": 3,
     "metadata": {},
     "output_type": "execute_result"
    }
   ],
   "source": [
    "cfg = config_train_imgbert.get_train_cfg()\n",
    "cfg"
   ]
  },
  {
   "cell_type": "code",
   "execution_count": 43,
   "id": "b705fe5b",
   "metadata": {},
   "outputs": [
    {
     "data": {
      "text/plain": [
       "torch.Size([8, 16, 32])"
      ]
     },
     "execution_count": 43,
     "metadata": {},
     "output_type": "execute_result"
    }
   ],
   "source": [
    "x = torch.tensor(np.random.randn(8, 16, 32), dtype=torch.float)\n",
    "x.shape"
   ]
  },
  {
   "cell_type": "code",
   "execution_count": 30,
   "id": "e1604aa3",
   "metadata": {},
   "outputs": [
    {
     "name": "stdout",
     "output_type": "stream",
     "text": [
      "torch.Size([8, 16, 32])\n"
     ]
    }
   ],
   "source": [
    "tmp = transformer.Transformer(config)\n",
    "out = tmp(x)\n",
    "print(out.shape)"
   ]
  },
  {
   "cell_type": "code",
   "execution_count": 39,
   "id": "91076b73",
   "metadata": {},
   "outputs": [
    {
     "data": {
      "text/plain": [
       "torch.Size([1, 5, 32])"
      ]
     },
     "execution_count": 39,
     "metadata": {},
     "output_type": "execute_result"
    }
   ],
   "source": [
    "x = torch.tensor(np.random.randn(1, 32), dtype=torch.float)\n",
    "x = x[None, :, :].expand(-1, 5, -1)\n",
    "x.shape"
   ]
  },
  {
   "cell_type": "code",
   "execution_count": 60,
   "id": "095a84e8",
   "metadata": {},
   "outputs": [
    {
     "data": {
      "text/plain": [
       "torch.Size([1, 4, 32])"
      ]
     },
     "execution_count": 60,
     "metadata": {},
     "output_type": "execute_result"
    }
   ],
   "source": [
    "x = torch.tensor(np.random.rand(1, 5, 128, 128), dtype=torch.float)\n",
    "tmp = ImgBERT(cfg)\n",
    "pred, take = tmp({'img':x})\n",
    "take.shape"
   ]
  },
  {
   "cell_type": "code",
   "execution_count": 12,
   "id": "6cac722a",
   "metadata": {},
   "outputs": [],
   "source": [
    "image_transform = torchvision.transforms.Compose([\n",
    "                               torchvision.transforms.ToTensor(),\n",
    "                               torchvision.transforms.Normalize(\n",
    "                                 (0.1307,), (0.3081,))\n",
    "                             ])\n",
    "train_mnist = torchvision.datasets.MNIST(root='/Users/shiveshchaudhary/Documents/projects/mnist',\n",
    "                                         train=True,\n",
    "                                         download=True,\n",
    "                                         transform=image_transform)"
   ]
  },
  {
   "cell_type": "code",
   "execution_count": null,
   "id": "440c040b",
   "metadata": {},
   "outputs": [
    {
     "data": {
      "text/plain": [
       "torch.Size([1, 16, 147])"
      ]
     },
     "execution_count": 59,
     "metadata": {},
     "output_type": "execute_result"
    }
   ],
   "source": [
    "x = train_mnist[1][0]\n",
    "x = x.repeat(3, 1, 1)\n",
    "\n",
    "nch = x.shape[0]\n",
    "ps = 7\n",
    "nx = x.shape[1]//ps\n",
    "ny = x.shape[2]//ps\n",
    "x = x[None, :, :, :]\n",
    "x = torch.reshape(x, (x.shape[0], x.shape[1], nx, ps, ny, ps))\n",
    "x = torch.permute(x, (0, 1, 2, 4, 3, 5))\n",
    "x = torch.reshape(x, (x.shape[0], x.shape[1], nx, ny, -1))\n",
    "x = torch.reshape(x, (x.shape[0], x.shape[1], -1, x.shape[4]))\n",
    "x = torch.permute(x, (0, 2, 1, 3))\n",
    "x = torch.reshape(x, (x.shape[0], x.shape[1], -1))\n",
    "x.shape"
   ]
  },
  {
   "cell_type": "code",
   "execution_count": 55,
   "id": "aec14d4f",
   "metadata": {},
   "outputs": [
    {
     "data": {
      "image/png": "[encoded data removed]",
      "text/plain": [
       "<Figure size 400x400 with 16 Axes>"
      ]
     },
     "metadata": {},
     "output_type": "display_data"
    }
   ],
   "source": [
    "tmp = torch.reshape(x, (x.shape[0], x.shape[1], -1, ps, ps))\n",
    "fig, ax = plt.subplots(4, 4, figsize=(4, 4))\n",
    "for i in range(x.shape[2]):\n",
    "    s_row = i//4\n",
    "    s_col = i%4\n",
    "    ax[s_row, s_col].imshow(tmp[0, 0, i])\n",
    "    ax[s_row, s_col].axis('off')\n",
    "fig.tight_layout()"
   ]
  },
  {
   "cell_type": "code",
   "execution_count": 44,
   "id": "12a2e368",
   "metadata": {},
   "outputs": [
    {
     "data": {
      "text/plain": [
       "torch.Size([1, 1, 28, 28])"
      ]
     },
     "execution_count": 44,
     "metadata": {},
     "output_type": "execute_result"
    }
   ],
   "source": [
    "x = torch.reshape(x, (x.shape[0], x.shape[1], nx, ny, ps, ps))\n",
    "x = torch.permute(x, (0, 1, 2, 4, 3, 5))\n",
    "x = torch.reshape(x, (x.shape[0], x.shape[1], nx*ps, ny*ps))\n",
    "x.shape"
   ]
  },
  {
   "cell_type": "code",
   "execution_count": 45,
   "id": "ad2a7e86",
   "metadata": {},
   "outputs": [
    {
     "data": {
      "text/plain": [
       "<matplotlib.image.AxesImage at 0x14b2672f0>"
      ]
     },
     "execution_count": 45,
     "metadata": {},
     "output_type": "execute_result"
    },
    {
     "data": {
      "image/png": "[encoded data removed]",
      "text/plain": [
       "<Figure size 640x480 with 1 Axes>"
      ]
     },
     "metadata": {},
     "output_type": "display_data"
    }
   ],
   "source": [
    "plt.imshow(x[0, 0])"
   ]
  }
 ],
 "metadata": {
  "kernelspec": {
   "display_name": "vilbert",
   "language": "python",
   "name": "python3"
  },
  "language_info": {
   "codemirror_mode": {
    "name": "ipython",
    "version": 3
   },
   "file_extension": ".py",
   "mimetype": "text/x-python",
   "name": "python",
   "nbconvert_exporter": "python",
   "pygments_lexer": "ipython3",
   "version": "3.12.0"
  }
 },
 "nbformat": 4,
 "nbformat_minor": 5
}
