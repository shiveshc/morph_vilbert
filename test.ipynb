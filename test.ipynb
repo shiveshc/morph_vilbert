{
 "cells": [
  {
   "cell_type": "code",
   "execution_count": 97,
   "id": "e4579265",
   "metadata": {},
   "outputs": [],
   "source": [
    "%reload_ext autoreload\n",
    "%autoreload 2\n",
    "import morph_mm.models.transformer as transformer\n",
    "from morph_mm.models.img_bert import ImgBERT\n",
    "from morph_mm.utils import SinCos2DPosEmbed, Learned2DPosEmbed\n",
    "from morph_mm.dataset.mnist import get_mnist_dataset\n",
    "from morph_mm.lightning.lit_model import LitImgBert\n",
    "\n",
    "import numpy as np\n",
    "import torch\n",
    "import torch.nn as nn\n",
    "import torchvision\n",
    "import matplotlib.pyplot as plt\n",
    "import lightning as L\n",
    "from pytorch_lightning.loggers.tensorboard import TensorBoardLogger\n",
    "\n",
    "from configs import config_imgbert_mnist"
   ]
  },
  {
   "cell_type": "code",
   "execution_count": 79,
   "id": "2ab87091",
   "metadata": {},
   "outputs": [
    {
     "data": {
      "text/plain": [
       "data:\n",
       "  img_size: 28\n",
       "  in_channels: 1\n",
       "  patch_size: 4\n",
       "loss: l2\n",
       "model:\n",
       "  decoder:\n",
       "    mlp_inner_dim: 64\n",
       "    mlp_num_inner_layers: 2\n",
       "    pos_embed: sine_cos\n",
       "  encoder:\n",
       "    mlp_inner_dim: 64\n",
       "    model_dim: 32\n",
       "    num_heads: 4\n",
       "    num_layers: 8\n",
       "    pos_embed: sine_cos\n",
       "  mask_ratio: 0.8"
      ]
     },
     "execution_count": 79,
     "metadata": {},
     "output_type": "execute_result"
    }
   ],
   "source": [
    "cfg = config_imgbert_mnist.get_train_cfg()\n",
    "cfg.model.mask_ratio = 0.8\n",
    "cfg.model.encoder.num_layers = 8\n",
    "cfg.model.decoder.mlp_num_inner_layers = 2\n",
    "cfg"
   ]
  },
  {
   "cell_type": "code",
   "execution_count": 43,
   "id": "b705fe5b",
   "metadata": {},
   "outputs": [
    {
     "data": {
      "text/plain": [
       "torch.Size([8, 16, 32])"
      ]
     },
     "execution_count": 43,
     "metadata": {},
     "output_type": "execute_result"
    }
   ],
   "source": [
    "x = torch.tensor(np.random.randn(8, 16, 32), dtype=torch.float)\n",
    "x.shape"
   ]
  },
  {
   "cell_type": "code",
   "execution_count": 30,
   "id": "e1604aa3",
   "metadata": {},
   "outputs": [
    {
     "name": "stdout",
     "output_type": "stream",
     "text": [
      "torch.Size([8, 16, 32])\n"
     ]
    }
   ],
   "source": [
    "tmp = transformer.Transformer(config)\n",
    "out = tmp(x)\n",
    "print(out.shape)"
   ]
  },
  {
   "cell_type": "code",
   "execution_count": 39,
   "id": "91076b73",
   "metadata": {},
   "outputs": [
    {
     "data": {
      "text/plain": [
       "torch.Size([1, 5, 32])"
      ]
     },
     "execution_count": 39,
     "metadata": {},
     "output_type": "execute_result"
    }
   ],
   "source": [
    "x = torch.tensor(np.random.randn(1, 32), dtype=torch.float)\n",
    "x = x[None, :, :].expand(-1, 5, -1)\n",
    "x.shape"
   ]
  },
  {
   "cell_type": "code",
   "execution_count": 60,
   "id": "095a84e8",
   "metadata": {},
   "outputs": [
    {
     "data": {
      "text/plain": [
       "torch.Size([1, 4, 32])"
      ]
     },
     "execution_count": 60,
     "metadata": {},
     "output_type": "execute_result"
    }
   ],
   "source": [
    "x = torch.tensor(np.random.rand(1, 5, 128, 128), dtype=torch.float)\n",
    "tmp = ImgBERT(cfg)\n",
    "pred, take = tmp({'img':x})\n",
    "take.shape"
   ]
  },
  {
   "cell_type": "code",
   "execution_count": 52,
   "id": "6cac722a",
   "metadata": {},
   "outputs": [],
   "source": [
    "image_transform = torchvision.transforms.Compose([\n",
    "                               torchvision.transforms.ToTensor(),\n",
    "                               torchvision.transforms.Normalize(\n",
    "                                 (0.1307,), (0.3081,))\n",
    "                             ])\n",
    "train_mnist = torchvision.datasets.MNIST(root='/Users/shiveshchaudhary/Documents/projects/mnist',\n",
    "                                         train=True,\n",
    "                                         download=True,\n",
    "                                         transform=image_transform)\n",
    "train_mnist_dataloader = torch.utils.data.DataLoader(train_mnist, batch_size=2, shuffle=True)"
   ]
  },
  {
   "cell_type": "code",
   "execution_count": null,
   "id": "440c040b",
   "metadata": {},
   "outputs": [
    {
     "data": {
      "text/plain": [
       "torch.Size([1, 16, 147])"
      ]
     },
     "execution_count": 138,
     "metadata": {},
     "output_type": "execute_result"
    }
   ],
   "source": [
    "x = train_mnist[1][0]\n",
    "x = x.repeat(3, 1, 1)\n",
    "\n",
    "nch = x.shape[0]\n",
    "ps = 7\n",
    "nx = x.shape[1]//ps\n",
    "ny = x.shape[2]//ps\n",
    "x = x[None, :, :, :]\n",
    "x = torch.reshape(x, (x.shape[0], x.shape[1], nx, ps, ny, ps))\n",
    "x = torch.permute(x, (0, 2, 4, 1, 3, 5))\n",
    "x = torch.reshape(x, (x.shape[0], nx, ny, -1))\n",
    "x = torch.reshape(x, (x.shape[0], -1, x.shape[3]))\n",
    "x.shape"
   ]
  },
  {
   "cell_type": "code",
   "execution_count": 143,
   "id": "aec14d4f",
   "metadata": {},
   "outputs": [
    {
     "data": {
      "image/png": "[encoded data removed]",
      "text/plain": [
       "<Figure size 400x400 with 16 Axes>"
      ]
     },
     "metadata": {},
     "output_type": "display_data"
    }
   ],
   "source": [
    "tmp = torch.reshape(x, (x.shape[0], -1, nch, ps, ps))\n",
    "fig, ax = plt.subplots(4, 4, figsize=(4, 4))\n",
    "for i in range(x.shape[1]):\n",
    "    s_row = i//4\n",
    "    s_col = i%4\n",
    "    ax[s_row, s_col].imshow(tmp[0, i, 0])\n",
    "    ax[s_row, s_col].axis('off')\n",
    "fig.tight_layout()"
   ]
  },
  {
   "cell_type": "code",
   "execution_count": 144,
   "id": "12a2e368",
   "metadata": {},
   "outputs": [
    {
     "data": {
      "text/plain": [
       "torch.Size([1, 3, 28, 28])"
      ]
     },
     "execution_count": 144,
     "metadata": {},
     "output_type": "execute_result"
    }
   ],
   "source": [
    "x = torch.reshape(x, (x.shape[0], nx, ny, nch, ps, ps))\n",
    "x = torch.permute(x, (0, 3, 1, 4, 2, 5))\n",
    "x = torch.reshape(x, (x.shape[0], x.shape[1], nx*ps, ny*ps))\n",
    "x.shape"
   ]
  },
  {
   "cell_type": "code",
   "execution_count": 145,
   "id": "ad2a7e86",
   "metadata": {},
   "outputs": [
    {
     "data": {
      "text/plain": [
       "<matplotlib.image.AxesImage at 0x14d715d60>"
      ]
     },
     "execution_count": 145,
     "metadata": {},
     "output_type": "execute_result"
    },
    {
     "data": {
      "image/png": "[encoded data removed]",
      "text/plain": [
       "<Figure size 640x480 with 1 Axes>"
      ]
     },
     "metadata": {},
     "output_type": "display_data"
    }
   ],
   "source": [
    "plt.imshow(x[0, 0])"
   ]
  },
  {
   "cell_type": "code",
   "execution_count": 84,
   "id": "51c7048d",
   "metadata": {},
   "outputs": [],
   "source": [
    "x = torch.tensor(np.arange(1, 21))\n",
    "x = torch.reshape(x, (5, -1))\n",
    "x = x[None, :, :]\n",
    "x = x.repeat(2, 1, 1)\n",
    "\n",
    "mask_param = torch.tensor(np.random.rand(x.shape[0], x.shape[1]))\n",
    "idx = torch.argsort(mask_param, dim=1)\n",
    "restore_idx = torch.argsort(idx, dim=1)"
   ]
  },
  {
   "cell_type": "code",
   "execution_count": 107,
   "id": "fc75598e",
   "metadata": {},
   "outputs": [
    {
     "data": {
      "text/plain": [
       "tensor([[4, 3, 0, 2, 1],\n",
       "        [0, 1, 3, 4, 2]])"
      ]
     },
     "execution_count": 107,
     "metadata": {},
     "output_type": "execute_result"
    }
   ],
   "source": [
    "idx"
   ]
  },
  {
   "cell_type": "code",
   "execution_count": 106,
   "id": "2d04ef5a",
   "metadata": {},
   "outputs": [
    {
     "data": {
      "text/plain": [
       "tensor([[2, 4, 3, 1, 0],\n",
       "        [0, 1, 4, 2, 3]])"
      ]
     },
     "execution_count": 106,
     "metadata": {},
     "output_type": "execute_result"
    }
   ],
   "source": [
    "restore_idx"
   ]
  },
  {
   "cell_type": "code",
   "execution_count": 102,
   "id": "0f0ef67d",
   "metadata": {},
   "outputs": [
    {
     "data": {
      "text/plain": [
       "torch.Size([2, 5])"
      ]
     },
     "execution_count": 102,
     "metadata": {},
     "output_type": "execute_result"
    }
   ],
   "source": [
    "idx.shape"
   ]
  },
  {
   "cell_type": "code",
   "execution_count": 105,
   "id": "67db8af9",
   "metadata": {},
   "outputs": [
    {
     "data": {
      "text/plain": [
       "tensor([[[4, 4, 4, 4],\n",
       "         [3, 3, 3, 3],\n",
       "         [0, 0, 0, 0],\n",
       "         [2, 2, 2, 2],\n",
       "         [1, 1, 1, 1]],\n",
       "\n",
       "        [[0, 0, 0, 0],\n",
       "         [1, 1, 1, 1],\n",
       "         [3, 3, 3, 3],\n",
       "         [4, 4, 4, 4],\n",
       "         [2, 2, 2, 2]]])"
      ]
     },
     "execution_count": 105,
     "metadata": {},
     "output_type": "execute_result"
    }
   ],
   "source": [
    "idx[:, :, None].repeat(1, 1, x.shape[2])"
   ]
  },
  {
   "cell_type": "code",
   "execution_count": 113,
   "id": "a5def954",
   "metadata": {},
   "outputs": [
    {
     "data": {
      "text/plain": [
       "tensor([[[ 1.,  2.,  3.,  4.],\n",
       "         [ 5.,  6.,  7.,  8.],\n",
       "         [ 9., 10., 11., 12.],\n",
       "         [ 0.,  0.,  0.,  0.],\n",
       "         [ 0.,  0.,  0.,  0.]],\n",
       "\n",
       "        [[ 0.,  0.,  0.,  0.],\n",
       "         [ 0.,  0.,  0.,  0.],\n",
       "         [ 9., 10., 11., 12.],\n",
       "         [13., 14., 15., 16.],\n",
       "         [17., 18., 19., 20.]]])"
      ]
     },
     "execution_count": 113,
     "metadata": {},
     "output_type": "execute_result"
    }
   ],
   "source": [
    "mask_token = torch.zeros((1, 1, 4))\n",
    "y = torch.gather(x, dim=1, index=idx[:, :, None].repeat(1, 1, x.shape[2]))\n",
    "take = y[:, 0:2, :]\n",
    "keep = y[:, 2::, :]\n",
    "y = torch.concat([mask_token.repeat(y.shape[0], 2, 1), keep], dim=1)\n",
    "y = torch.gather(y, dim=1, index=restore_idx[:, :, None].repeat(1, 1, x.shape[2]))\n",
    "y"
   ]
  },
  {
   "cell_type": "code",
   "execution_count": null,
   "id": "253d5d54",
   "metadata": {},
   "outputs": [
    {
     "data": {
      "text/plain": [
       "data:\n",
       "  img_size: 28\n",
       "  in_channels: 3\n",
       "  patch_size: 14\n",
       "model:\n",
       "  decoder:\n",
       "    mlp_inner_dim: 64\n",
       "    mlp_num_inner_layers: 1\n",
       "  encoder:\n",
       "    mlp_inner_dim: 64\n",
       "    model_dim: 32\n",
       "    num_heads: 4\n",
       "    num_layers: 3\n",
       "  mask_ratio: 0.25"
      ]
     },
     "execution_count": 37,
     "metadata": {},
     "output_type": "execute_result"
    }
   ],
   "source": [
    "cfg = config_imgbert_mnist.get_train_cfg()\n",
    "cfg.data.img_size = 28\n",
    "cfg.data.in_channels = 3\n",
    "cfg.data.patch_size = 14\n",
    "cfg"
   ]
  },
  {
   "cell_type": "code",
   "execution_count": 53,
   "id": "bb6774dc",
   "metadata": {},
   "outputs": [
    {
     "name": "stdout",
     "output_type": "stream",
     "text": [
      "torch.Size([2, 1, 28, 28])\n",
      "tensor([3, 3])\n"
     ]
    }
   ],
   "source": [
    "x = next(iter(train_mnist_dataloader))\n",
    "print(x[0].shape)\n",
    "print(x[1])"
   ]
  },
  {
   "cell_type": "code",
   "execution_count": 60,
   "id": "726883b6",
   "metadata": {},
   "outputs": [
    {
     "ename": "AttributeError",
     "evalue": "\"'pos_embed'\"",
     "output_type": "error",
     "traceback": [
      "\u001b[31m---------------------------------------------------------------------------\u001b[39m",
      "\u001b[31mKeyError\u001b[39m                                  Traceback (most recent call last)",
      "\u001b[36mFile \u001b[39m\u001b[32m/opt/miniconda3/envs/vilbert/lib/python3.12/site-packages/ml_collections/config_dict/config_dict.py:952\u001b[39m, in \u001b[36mConfigDict.__getitem__\u001b[39m\u001b[34m(self, key)\u001b[39m\n\u001b[32m    951\u001b[39m \u001b[38;5;28;01mtry\u001b[39;00m:\n\u001b[32m--> \u001b[39m\u001b[32m952\u001b[39m   field = \u001b[38;5;28;43mself\u001b[39;49m\u001b[43m.\u001b[49m\u001b[43m_fields\u001b[49m\u001b[43m[\u001b[49m\u001b[43mkey\u001b[49m\u001b[43m]\u001b[49m\n\u001b[32m    953\u001b[39m   \u001b[38;5;28;01mif\u001b[39;00m \u001b[38;5;28misinstance\u001b[39m(field, FieldReference):\n",
      "\u001b[31mKeyError\u001b[39m: 'pos_embed'",
      "\nDuring handling of the above exception, another exception occurred:\n",
      "\u001b[31mKeyError\u001b[39m                                  Traceback (most recent call last)",
      "\u001b[36mFile \u001b[39m\u001b[32m/opt/miniconda3/envs/vilbert/lib/python3.12/site-packages/ml_collections/config_dict/config_dict.py:853\u001b[39m, in \u001b[36mConfigDict.__getattr__\u001b[39m\u001b[34m(self, attribute)\u001b[39m\n\u001b[32m    852\u001b[39m \u001b[38;5;28;01mtry\u001b[39;00m:\n\u001b[32m--> \u001b[39m\u001b[32m853\u001b[39m   \u001b[38;5;28;01mreturn\u001b[39;00m \u001b[38;5;28;43mself\u001b[39;49m\u001b[43m[\u001b[49m\u001b[43mattribute\u001b[49m\u001b[43m]\u001b[49m\n\u001b[32m    854\u001b[39m \u001b[38;5;28;01mexcept\u001b[39;00m \u001b[38;5;167;01mKeyError\u001b[39;00m \u001b[38;5;28;01mas\u001b[39;00m e:\n",
      "\u001b[36mFile \u001b[39m\u001b[32m/opt/miniconda3/envs/vilbert/lib/python3.12/site-packages/ml_collections/config_dict/config_dict.py:958\u001b[39m, in \u001b[36mConfigDict.__getitem__\u001b[39m\u001b[34m(self, key)\u001b[39m\n\u001b[32m    957\u001b[39m \u001b[38;5;28;01mexcept\u001b[39;00m \u001b[38;5;167;01mKeyError\u001b[39;00m \u001b[38;5;28;01mas\u001b[39;00m e:\n\u001b[32m--> \u001b[39m\u001b[32m958\u001b[39m   \u001b[38;5;28;01mraise\u001b[39;00m \u001b[38;5;167;01mKeyError\u001b[39;00m(\u001b[38;5;28mself\u001b[39m._generate_did_you_mean_message(key, \u001b[38;5;28mstr\u001b[39m(e)))\n",
      "\u001b[31mKeyError\u001b[39m: \"'pos_embed'\"",
      "\nDuring handling of the above exception, another exception occurred:\n",
      "\u001b[31mAttributeError\u001b[39m                            Traceback (most recent call last)",
      "\u001b[36mCell\u001b[39m\u001b[36m \u001b[39m\u001b[32mIn[60]\u001b[39m\u001b[32m, line 1\u001b[39m\n\u001b[32m----> \u001b[39m\u001b[32m1\u001b[39m model = \u001b[43mImgBERT\u001b[49m\u001b[43m(\u001b[49m\u001b[43mcfg\u001b[49m\u001b[43m)\u001b[49m\n\u001b[32m      2\u001b[39m inp = x[\u001b[32m0\u001b[39m].repeat(\u001b[32m1\u001b[39m, \u001b[32m3\u001b[39m, \u001b[32m1\u001b[39m, \u001b[32m1\u001b[39m)\n\u001b[32m      3\u001b[39m pred, gt, cls_token = model({\u001b[33m'\u001b[39m\u001b[33mimg\u001b[39m\u001b[33m'\u001b[39m:inp})\n",
      "\u001b[36mFile \u001b[39m\u001b[32m<string>:11\u001b[39m, in \u001b[36m__init__\u001b[39m\u001b[34m(self, config)\u001b[39m\n",
      "\u001b[36mFile \u001b[39m\u001b[32m/opt/miniconda3/envs/vilbert/lib/python3.12/site-packages/ml_collections/config_dict/config_dict.py:855\u001b[39m, in \u001b[36mConfigDict.__getattr__\u001b[39m\u001b[34m(self, attribute)\u001b[39m\n\u001b[32m    853\u001b[39m   \u001b[38;5;28;01mreturn\u001b[39;00m \u001b[38;5;28mself\u001b[39m[attribute]\n\u001b[32m    854\u001b[39m \u001b[38;5;28;01mexcept\u001b[39;00m \u001b[38;5;167;01mKeyError\u001b[39;00m \u001b[38;5;28;01mas\u001b[39;00m e:\n\u001b[32m--> \u001b[39m\u001b[32m855\u001b[39m   \u001b[38;5;28;01mraise\u001b[39;00m \u001b[38;5;167;01mAttributeError\u001b[39;00m(e)\n",
      "\u001b[31mAttributeError\u001b[39m: \"'pos_embed'\""
     ]
    }
   ],
   "source": [
    "model = ImgBERT(cfg)\n",
    "inp = x[0].repeat(1, 3, 1, 1)\n",
    "pred, gt, cls_token = model({'img':inp})"
   ]
  },
  {
   "cell_type": "code",
   "execution_count": 55,
   "id": "03e7b5fa",
   "metadata": {},
   "outputs": [
    {
     "data": {
      "text/plain": [
       "torch.Size([2, 1, 3, 14, 14])"
      ]
     },
     "execution_count": 55,
     "metadata": {},
     "output_type": "execute_result"
    }
   ],
   "source": [
    "tmp = torch.reshape(gt, (gt.shape[0], gt.shape[1], 3, 14, 14))\n",
    "tmp.shape"
   ]
  },
  {
   "cell_type": "code",
   "execution_count": 58,
   "id": "c1e07391",
   "metadata": {},
   "outputs": [
    {
     "data": {
      "text/plain": [
       "<matplotlib.image.AxesImage at 0x16ba211f0>"
      ]
     },
     "execution_count": 58,
     "metadata": {},
     "output_type": "execute_result"
    },
    {
     "data": {
      "image/png": "[encoded data removed]",
      "text/plain": [
       "<Figure size 640x480 with 1 Axes>"
      ]
     },
     "metadata": {},
     "output_type": "display_data"
    }
   ],
   "source": [
    "plt.imshow(inp[1, 0])"
   ]
  },
  {
   "cell_type": "code",
   "execution_count": 59,
   "id": "094ea918",
   "metadata": {},
   "outputs": [
    {
     "data": {
      "text/plain": [
       "<matplotlib.image.AxesImage at 0x16bf75fa0>"
      ]
     },
     "execution_count": 59,
     "metadata": {},
     "output_type": "execute_result"
    },
    {
     "data": {
      "image/png": "[encoded data removed]",
      "text/plain": [
       "<Figure size 640x480 with 1 Axes>"
      ]
     },
     "metadata": {},
     "output_type": "display_data"
    }
   ],
   "source": [
    "plt.imshow(tmp[1, 0, 2])"
   ]
  },
  {
   "cell_type": "code",
   "execution_count": null,
   "id": "c409a96a",
   "metadata": {},
   "outputs": [],
   "source": []
  },
  {
   "cell_type": "code",
   "execution_count": 64,
   "id": "eeb46dc6",
   "metadata": {},
   "outputs": [],
   "source": [
    "emb = Learned2DPosEmbed(32, 4, 4)"
   ]
  },
  {
   "cell_type": "code",
   "execution_count": 68,
   "id": "fca909cf",
   "metadata": {},
   "outputs": [],
   "source": [
    "freq = np.linspace(0, 2*np.pi, 32)"
   ]
  },
  {
   "cell_type": "code",
   "execution_count": 71,
   "id": "011fa3b5",
   "metadata": {},
   "outputs": [
    {
     "data": {
      "text/plain": [
       "tensor([0.0000, 0.2027, 0.4054, 0.6081, 0.8107, 1.0134, 1.2161, 1.4188, 1.6215,\n",
       "        1.8242, 2.0268, 2.2295, 2.4322, 2.6349, 2.8376, 3.0403, 3.2429, 3.4456,\n",
       "        3.6483, 3.8510, 4.0537, 4.2564, 4.4590, 4.6617, 4.8644, 5.0671, 5.2698,\n",
       "        5.4725, 5.6751, 5.8778, 6.0805, 6.2832], dtype=torch.float64)"
      ]
     },
     "execution_count": 71,
     "metadata": {},
     "output_type": "execute_result"
    }
   ],
   "source": [
    "torch.tensor(freq)"
   ]
  },
  {
   "cell_type": "code",
   "execution_count": 85,
   "id": "a6a3ada9",
   "metadata": {},
   "outputs": [
    {
     "data": {
      "text/plain": [
       "torch.Size([16, 64])"
      ]
     },
     "execution_count": 85,
     "metadata": {},
     "output_type": "execute_result"
    }
   ],
   "source": [
    "emb = SinCos2DPosEmbed(32, 4, 4)\n",
    "emb().shape"
   ]
  },
  {
   "cell_type": "code",
   "execution_count": 38,
   "id": "23076c22",
   "metadata": {},
   "outputs": [],
   "source": [
    "model = ImgBERT(cfg)"
   ]
  },
  {
   "cell_type": "code",
   "execution_count": 80,
   "id": "a942bc6a",
   "metadata": {},
   "outputs": [],
   "source": [
    "train_data, test_data = get_mnist_dataset()\n",
    "train_data = torch.utils.data.Subset(train_data, np.arange(0, 2))\n",
    "train_dataloader = torch.utils.data.DataLoader(train_data, batch_size=2, shuffle=True)\n",
    "lit_model = LitImgBert(cfg)"
   ]
  },
  {
   "cell_type": "code",
   "execution_count": 81,
   "id": "9d9c76f4",
   "metadata": {},
   "outputs": [
    {
     "data": {
      "text/plain": [
       "tensor([0, 5])"
      ]
     },
     "execution_count": 81,
     "metadata": {},
     "output_type": "execute_result"
    }
   ],
   "source": [
    "batch = next(iter(train_dataloader))\n",
    "batch['img'].shape\n",
    "batch['label']"
   ]
  },
  {
   "cell_type": "code",
   "execution_count": 39,
   "id": "5b4c9f1e",
   "metadata": {},
   "outputs": [],
   "source": [
    "pred, gt, cls_token, orig_img, recon_img = model(batch)"
   ]
  },
  {
   "cell_type": "code",
   "execution_count": 117,
   "id": "4df23280",
   "metadata": {},
   "outputs": [
    {
     "data": {
      "text/plain": [
       "torch.Size([2, 32])"
      ]
     },
     "execution_count": 117,
     "metadata": {},
     "output_type": "execute_result"
    }
   ],
   "source": [
    "cls_token.shape"
   ]
  },
  {
   "cell_type": "code",
   "execution_count": 98,
   "id": "fb9c82e2",
   "metadata": {},
   "outputs": [
    {
     "ename": "ModuleNotFoundError",
     "evalue": "Neither `tensorboard` nor `tensorboardX` is available. Try `pip install`ing either.\nRequirement 'tensorboardX' not met. HINT: Try running `pip install -U 'tensorboardX'`\nRequirement 'tensorboard' not met. HINT: Try running `pip install -U 'tensorboard'`",
     "output_type": "error",
     "traceback": [
      "\u001b[31m---------------------------------------------------------------------------\u001b[39m",
      "\u001b[31mModuleNotFoundError\u001b[39m                       Traceback (most recent call last)",
      "\u001b[36mCell\u001b[39m\u001b[36m \u001b[39m\u001b[32mIn[98]\u001b[39m\u001b[32m, line 1\u001b[39m\n\u001b[32m----> \u001b[39m\u001b[32m1\u001b[39m logger = \u001b[43mTensorBoardLogger\u001b[49m\u001b[43m(\u001b[49m\n\u001b[32m      2\u001b[39m \u001b[43m    \u001b[49m\u001b[43msave_dir\u001b[49m\u001b[43m=\u001b[49m\u001b[33;43m'\u001b[39;49m\u001b[33;43m/Users/shiveshchaudhary/Documents/projects/morph_vilbert/ckpts/mnist_imgbert/lightning_logs\u001b[39;49m\u001b[33;43m'\u001b[39;49m\u001b[43m,\u001b[49m\n\u001b[32m      3\u001b[39m \u001b[43m    \u001b[49m\u001b[43mname\u001b[49m\u001b[43m=\u001b[49m\u001b[33;43m'\u001b[39;49m\u001b[33;43m'\u001b[39;49m\u001b[43m,\u001b[49m\n\u001b[32m      4\u001b[39m \u001b[43m    \u001b[49m\u001b[43mversion\u001b[49m\u001b[43m=\u001b[49m\u001b[33;43m'\u001b[39;49m\u001b[33;43m7\u001b[39;49m\u001b[33;43m'\u001b[39;49m\u001b[43m,\u001b[49m\u001b[43m  \u001b[49m\u001b[38;5;66;43;03m# force re-use of version_7\u001b[39;49;00m\n\u001b[32m      5\u001b[39m \u001b[43m)\u001b[49m\n\u001b[32m      7\u001b[39m trainer = L.Trainer(max_epochs=\u001b[32m2000\u001b[39m,\n\u001b[32m      8\u001b[39m                     accelerator=\u001b[33m'\u001b[39m\u001b[33mcpu\u001b[39m\u001b[33m'\u001b[39m,\n\u001b[32m      9\u001b[39m                     logger=logger,\n\u001b[32m     10\u001b[39m                     )\n\u001b[32m     12\u001b[39m trainer.fit(model=lit_model,\n\u001b[32m     13\u001b[39m             train_dataloaders=train_dataloader,\n\u001b[32m     14\u001b[39m             ckpt_path=\u001b[33m'\u001b[39m\u001b[33m/Users/shiveshchaudhary/Documents/projects/morph_vilbert/ckpts/mnist_imgbert/lightning_logs/version_7/checkpoints/epoch=999-step=1000.ckpt\u001b[39m\u001b[33m'\u001b[39m)\n",
      "\u001b[36mFile \u001b[39m\u001b[32m/opt/miniconda3/envs/vilbert/lib/python3.12/site-packages/pytorch_lightning/loggers/tensorboard.py:96\u001b[39m, in \u001b[36mTensorBoardLogger.__init__\u001b[39m\u001b[34m(self, save_dir, name, version, log_graph, default_hp_metric, prefix, sub_dir, **kwargs)\u001b[39m\n\u001b[32m     85\u001b[39m \u001b[38;5;28;01mdef\u001b[39;00m\u001b[38;5;250m \u001b[39m\u001b[34m__init__\u001b[39m(\n\u001b[32m     86\u001b[39m     \u001b[38;5;28mself\u001b[39m,\n\u001b[32m     87\u001b[39m     save_dir: _PATH,\n\u001b[32m   (...)\u001b[39m\u001b[32m     94\u001b[39m     **kwargs: Any,\n\u001b[32m     95\u001b[39m ):\n\u001b[32m---> \u001b[39m\u001b[32m96\u001b[39m     \u001b[38;5;28;43msuper\u001b[39;49m\u001b[43m(\u001b[49m\u001b[43m)\u001b[49m\u001b[43m.\u001b[49m\u001b[34;43m__init__\u001b[39;49m\u001b[43m(\u001b[49m\n\u001b[32m     97\u001b[39m \u001b[43m        \u001b[49m\u001b[43mroot_dir\u001b[49m\u001b[43m=\u001b[49m\u001b[43msave_dir\u001b[49m\u001b[43m,\u001b[49m\n\u001b[32m     98\u001b[39m \u001b[43m        \u001b[49m\u001b[43mname\u001b[49m\u001b[43m=\u001b[49m\u001b[43mname\u001b[49m\u001b[43m,\u001b[49m\n\u001b[32m     99\u001b[39m \u001b[43m        \u001b[49m\u001b[43mversion\u001b[49m\u001b[43m=\u001b[49m\u001b[43mversion\u001b[49m\u001b[43m,\u001b[49m\n\u001b[32m    100\u001b[39m \u001b[43m        \u001b[49m\u001b[43mdefault_hp_metric\u001b[49m\u001b[43m=\u001b[49m\u001b[43mdefault_hp_metric\u001b[49m\u001b[43m,\u001b[49m\n\u001b[32m    101\u001b[39m \u001b[43m        \u001b[49m\u001b[43mprefix\u001b[49m\u001b[43m=\u001b[49m\u001b[43mprefix\u001b[49m\u001b[43m,\u001b[49m\n\u001b[32m    102\u001b[39m \u001b[43m        \u001b[49m\u001b[43msub_dir\u001b[49m\u001b[43m=\u001b[49m\u001b[43msub_dir\u001b[49m\u001b[43m,\u001b[49m\n\u001b[32m    103\u001b[39m \u001b[43m        \u001b[49m\u001b[43m*\u001b[49m\u001b[43m*\u001b[49m\u001b[43mkwargs\u001b[49m\u001b[43m,\u001b[49m\n\u001b[32m    104\u001b[39m \u001b[43m    \u001b[49m\u001b[43m)\u001b[49m\n\u001b[32m    105\u001b[39m     \u001b[38;5;28;01mif\u001b[39;00m log_graph \u001b[38;5;129;01mand\u001b[39;00m \u001b[38;5;129;01mnot\u001b[39;00m _TENSORBOARD_AVAILABLE:\n\u001b[32m    106\u001b[39m         rank_zero_warn(\n\u001b[32m    107\u001b[39m             \u001b[33m\"\u001b[39m\u001b[33mYou set `TensorBoardLogger(log_graph=True)` but `tensorboard` is not available.\u001b[39m\u001b[38;5;130;01m\\n\u001b[39;00m\u001b[33m\"\u001b[39m\n\u001b[32m    108\u001b[39m             \u001b[33mf\u001b[39m\u001b[33m\"\u001b[39m\u001b[38;5;132;01m{\u001b[39;00m\u001b[38;5;28mstr\u001b[39m(_TENSORBOARD_AVAILABLE)\u001b[38;5;132;01m}\u001b[39;00m\u001b[33m\"\u001b[39m\n\u001b[32m    109\u001b[39m         )\n",
      "\u001b[36mFile \u001b[39m\u001b[32m/opt/miniconda3/envs/vilbert/lib/python3.12/site-packages/lightning_fabric/loggers/tensorboard.py:93\u001b[39m, in \u001b[36mTensorBoardLogger.__init__\u001b[39m\u001b[34m(self, root_dir, name, version, default_hp_metric, prefix, sub_dir, **kwargs)\u001b[39m\n\u001b[32m     82\u001b[39m \u001b[38;5;28;01mdef\u001b[39;00m\u001b[38;5;250m \u001b[39m\u001b[34m__init__\u001b[39m(\n\u001b[32m     83\u001b[39m     \u001b[38;5;28mself\u001b[39m,\n\u001b[32m     84\u001b[39m     root_dir: _PATH,\n\u001b[32m   (...)\u001b[39m\u001b[32m     90\u001b[39m     **kwargs: Any,\n\u001b[32m     91\u001b[39m ):\n\u001b[32m     92\u001b[39m     \u001b[38;5;28;01mif\u001b[39;00m \u001b[38;5;129;01mnot\u001b[39;00m _TENSORBOARD_AVAILABLE \u001b[38;5;129;01mand\u001b[39;00m \u001b[38;5;129;01mnot\u001b[39;00m _TENSORBOARDX_AVAILABLE:\n\u001b[32m---> \u001b[39m\u001b[32m93\u001b[39m         \u001b[38;5;28;01mraise\u001b[39;00m \u001b[38;5;167;01mModuleNotFoundError\u001b[39;00m(\n\u001b[32m     94\u001b[39m             \u001b[33m\"\u001b[39m\u001b[33mNeither `tensorboard` nor `tensorboardX` is available. Try `pip install`ing either.\u001b[39m\u001b[38;5;130;01m\\n\u001b[39;00m\u001b[33m\"\u001b[39m\n\u001b[32m     95\u001b[39m             \u001b[33mf\u001b[39m\u001b[33m\"\u001b[39m\u001b[38;5;132;01m{\u001b[39;00m\u001b[38;5;28mstr\u001b[39m(_TENSORBOARDX_AVAILABLE)\u001b[38;5;132;01m}\u001b[39;00m\u001b[38;5;130;01m\\n\u001b[39;00m\u001b[38;5;132;01m{\u001b[39;00m\u001b[38;5;28mstr\u001b[39m(_TENSORBOARD_AVAILABLE)\u001b[38;5;132;01m}\u001b[39;00m\u001b[33m\"\u001b[39m\n\u001b[32m     96\u001b[39m         )\n\u001b[32m     97\u001b[39m     \u001b[38;5;28msuper\u001b[39m().\u001b[34m__init__\u001b[39m()\n\u001b[32m     98\u001b[39m     root_dir = os.fspath(root_dir)\n",
      "\u001b[31mModuleNotFoundError\u001b[39m: Neither `tensorboard` nor `tensorboardX` is available. Try `pip install`ing either.\nRequirement 'tensorboardX' not met. HINT: Try running `pip install -U 'tensorboardX'`\nRequirement 'tensorboard' not met. HINT: Try running `pip install -U 'tensorboard'`"
     ]
    }
   ],
   "source": [
    "logger = TensorBoardLogger(\n",
    "    save_dir='/Users/shiveshchaudhary/Documents/projects/morph_vilbert/ckpts/mnist_imgbert/lightning_logs',\n",
    "    name='',\n",
    "    version='7',  # force re-use of version_7\n",
    ")\n",
    "\n",
    "trainer = L.Trainer(max_epochs=2000,\n",
    "                    accelerator='cpu',\n",
    "                    logger=logger,\n",
    "                    )\n",
    "\n",
    "trainer.fit(model=lit_model,\n",
    "            train_dataloaders=train_dataloader,\n",
    "            ckpt_path='/Users/shiveshchaudhary/Documents/projects/morph_vilbert/ckpts/mnist_imgbert/lightning_logs/version_7/checkpoints/epoch=999-step=1000.ckpt')"
   ]
  },
  {
   "cell_type": "code",
   "execution_count": 83,
   "id": "7ffdef49",
   "metadata": {},
   "outputs": [
    {
     "data": {
      "text/plain": [
       "LitImgBert(\n",
       "  (model): ImgBERT(\n",
       "    (pos_embed): SinCos2DPosEmbed()\n",
       "    (proj): Linear(in_features=16, out_features=32, bias=True)\n",
       "    (encoder): Transformer(\n",
       "      (encoder): Sequential(\n",
       "        (0): TransformerEncoderLayer(\n",
       "          (self_attn): MultiheadAttention(\n",
       "            (out_proj): NonDynamicallyQuantizableLinear(in_features=32, out_features=32, bias=True)\n",
       "          )\n",
       "          (linear1): Linear(in_features=32, out_features=64, bias=True)\n",
       "          (dropout): Dropout(p=0.1, inplace=False)\n",
       "          (linear2): Linear(in_features=64, out_features=32, bias=True)\n",
       "          (norm1): LayerNorm((32,), eps=1e-05, elementwise_affine=True)\n",
       "          (norm2): LayerNorm((32,), eps=1e-05, elementwise_affine=True)\n",
       "          (dropout1): Dropout(p=0.1, inplace=False)\n",
       "          (dropout2): Dropout(p=0.1, inplace=False)\n",
       "        )\n",
       "        (1): TransformerEncoderLayer(\n",
       "          (self_attn): MultiheadAttention(\n",
       "            (out_proj): NonDynamicallyQuantizableLinear(in_features=32, out_features=32, bias=True)\n",
       "          )\n",
       "          (linear1): Linear(in_features=32, out_features=64, bias=True)\n",
       "          (dropout): Dropout(p=0.1, inplace=False)\n",
       "          (linear2): Linear(in_features=64, out_features=32, bias=True)\n",
       "          (norm1): LayerNorm((32,), eps=1e-05, elementwise_affine=True)\n",
       "          (norm2): LayerNorm((32,), eps=1e-05, elementwise_affine=True)\n",
       "          (dropout1): Dropout(p=0.1, inplace=False)\n",
       "          (dropout2): Dropout(p=0.1, inplace=False)\n",
       "        )\n",
       "        (2): TransformerEncoderLayer(\n",
       "          (self_attn): MultiheadAttention(\n",
       "            (out_proj): NonDynamicallyQuantizableLinear(in_features=32, out_features=32, bias=True)\n",
       "          )\n",
       "          (linear1): Linear(in_features=32, out_features=64, bias=True)\n",
       "          (dropout): Dropout(p=0.1, inplace=False)\n",
       "          (linear2): Linear(in_features=64, out_features=32, bias=True)\n",
       "          (norm1): LayerNorm((32,), eps=1e-05, elementwise_affine=True)\n",
       "          (norm2): LayerNorm((32,), eps=1e-05, elementwise_affine=True)\n",
       "          (dropout1): Dropout(p=0.1, inplace=False)\n",
       "          (dropout2): Dropout(p=0.1, inplace=False)\n",
       "        )\n",
       "        (3): TransformerEncoderLayer(\n",
       "          (self_attn): MultiheadAttention(\n",
       "            (out_proj): NonDynamicallyQuantizableLinear(in_features=32, out_features=32, bias=True)\n",
       "          )\n",
       "          (linear1): Linear(in_features=32, out_features=64, bias=True)\n",
       "          (dropout): Dropout(p=0.1, inplace=False)\n",
       "          (linear2): Linear(in_features=64, out_features=32, bias=True)\n",
       "          (norm1): LayerNorm((32,), eps=1e-05, elementwise_affine=True)\n",
       "          (norm2): LayerNorm((32,), eps=1e-05, elementwise_affine=True)\n",
       "          (dropout1): Dropout(p=0.1, inplace=False)\n",
       "          (dropout2): Dropout(p=0.1, inplace=False)\n",
       "        )\n",
       "        (4): TransformerEncoderLayer(\n",
       "          (self_attn): MultiheadAttention(\n",
       "            (out_proj): NonDynamicallyQuantizableLinear(in_features=32, out_features=32, bias=True)\n",
       "          )\n",
       "          (linear1): Linear(in_features=32, out_features=64, bias=True)\n",
       "          (dropout): Dropout(p=0.1, inplace=False)\n",
       "          (linear2): Linear(in_features=64, out_features=32, bias=True)\n",
       "          (norm1): LayerNorm((32,), eps=1e-05, elementwise_affine=True)\n",
       "          (norm2): LayerNorm((32,), eps=1e-05, elementwise_affine=True)\n",
       "          (dropout1): Dropout(p=0.1, inplace=False)\n",
       "          (dropout2): Dropout(p=0.1, inplace=False)\n",
       "        )\n",
       "        (5): TransformerEncoderLayer(\n",
       "          (self_attn): MultiheadAttention(\n",
       "            (out_proj): NonDynamicallyQuantizableLinear(in_features=32, out_features=32, bias=True)\n",
       "          )\n",
       "          (linear1): Linear(in_features=32, out_features=64, bias=True)\n",
       "          (dropout): Dropout(p=0.1, inplace=False)\n",
       "          (linear2): Linear(in_features=64, out_features=32, bias=True)\n",
       "          (norm1): LayerNorm((32,), eps=1e-05, elementwise_affine=True)\n",
       "          (norm2): LayerNorm((32,), eps=1e-05, elementwise_affine=True)\n",
       "          (dropout1): Dropout(p=0.1, inplace=False)\n",
       "          (dropout2): Dropout(p=0.1, inplace=False)\n",
       "        )\n",
       "        (6): TransformerEncoderLayer(\n",
       "          (self_attn): MultiheadAttention(\n",
       "            (out_proj): NonDynamicallyQuantizableLinear(in_features=32, out_features=32, bias=True)\n",
       "          )\n",
       "          (linear1): Linear(in_features=32, out_features=64, bias=True)\n",
       "          (dropout): Dropout(p=0.1, inplace=False)\n",
       "          (linear2): Linear(in_features=64, out_features=32, bias=True)\n",
       "          (norm1): LayerNorm((32,), eps=1e-05, elementwise_affine=True)\n",
       "          (norm2): LayerNorm((32,), eps=1e-05, elementwise_affine=True)\n",
       "          (dropout1): Dropout(p=0.1, inplace=False)\n",
       "          (dropout2): Dropout(p=0.1, inplace=False)\n",
       "        )\n",
       "        (7): TransformerEncoderLayer(\n",
       "          (self_attn): MultiheadAttention(\n",
       "            (out_proj): NonDynamicallyQuantizableLinear(in_features=32, out_features=32, bias=True)\n",
       "          )\n",
       "          (linear1): Linear(in_features=32, out_features=64, bias=True)\n",
       "          (dropout): Dropout(p=0.1, inplace=False)\n",
       "          (linear2): Linear(in_features=64, out_features=32, bias=True)\n",
       "          (norm1): LayerNorm((32,), eps=1e-05, elementwise_affine=True)\n",
       "          (norm2): LayerNorm((32,), eps=1e-05, elementwise_affine=True)\n",
       "          (dropout1): Dropout(p=0.1, inplace=False)\n",
       "          (dropout2): Dropout(p=0.1, inplace=False)\n",
       "        )\n",
       "      )\n",
       "    )\n",
       "    (decoder): MLPDecoder(\n",
       "      (decoder): Sequential(\n",
       "        (0): Linear(in_features=32, out_features=64, bias=True)\n",
       "        (1): ReLU()\n",
       "        (2): Linear(in_features=64, out_features=64, bias=True)\n",
       "        (3): ReLU()\n",
       "        (4): Linear(in_features=64, out_features=16, bias=True)\n",
       "      )\n",
       "    )\n",
       "  )\n",
       ")"
      ]
     },
     "execution_count": 83,
     "metadata": {},
     "output_type": "execute_result"
    }
   ],
   "source": [
    "model = LitImgBert.load_from_checkpoint(\n",
    "    '/Users/shiveshchaudhary/Documents/projects/morph_vilbert/ckpts/mnist_imgbert/lightning_logs/version_6/checkpoints/epoch=999-step=1000.ckpt',\n",
    "    config=cfg)\n",
    "model.eval()"
   ]
  },
  {
   "cell_type": "code",
   "execution_count": 84,
   "id": "acbb3826",
   "metadata": {},
   "outputs": [],
   "source": [
    "pred, gt, cls_token, orig_img, recon_img = model(batch)"
   ]
  },
  {
   "cell_type": "code",
   "execution_count": 86,
   "id": "e906bff3",
   "metadata": {},
   "outputs": [
    {
     "data": {
      "text/plain": [
       "<matplotlib.image.AxesImage at 0x168c27f20>"
      ]
     },
     "execution_count": 86,
     "metadata": {},
     "output_type": "execute_result"
    },
    {
     "data": {
      "image/png": "[encoded data removed]",
      "text/plain": [
       "<Figure size 400x800 with 2 Axes>"
      ]
     },
     "metadata": {},
     "output_type": "display_data"
    }
   ],
   "source": [
    "idx = 0\n",
    "fig, ax = plt.subplots(1, 2, figsize=(4, 8))\n",
    "ax[0].imshow(orig_img.detach()[idx, 0])\n",
    "ax[1].imshow(recon_img.detach()[idx, 0])"
   ]
  }
 ],
 "metadata": {
  "kernelspec": {
   "display_name": "vilbert",
   "language": "python",
   "name": "python3"
  },
  "language_info": {
   "codemirror_mode": {
    "name": "ipython",
    "version": 3
   },
   "file_extension": ".py",
   "mimetype": "text/x-python",
   "name": "python",
   "nbconvert_exporter": "python",
   "pygments_lexer": "ipython3",
   "version": "3.12.0"
  }
 },
 "nbformat": 4,
 "nbformat_minor": 5
}
